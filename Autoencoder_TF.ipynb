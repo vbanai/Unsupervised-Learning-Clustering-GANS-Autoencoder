{
  "nbformat": 4,
  "nbformat_minor": 0,
  "metadata": {
    "colab": {
      "name": "Autoencoder_TF.ipynb",
      "provenance": [],
      "authorship_tag": "ABX9TyONBPkO0A8XbFQJHkPS8+Dn",
      "include_colab_link": true
    },
    "kernelspec": {
      "display_name": "Python 3",
      "name": "python3"
    },
    "language_info": {
      "name": "python"
    }
  },
  "cells": [
    {
      "cell_type": "markdown",
      "metadata": {
        "id": "view-in-github",
        "colab_type": "text"
      },
      "source": [
        "<a href=\"https://colab.research.google.com/github/vbanai/Unsupervised-learning-Clustering-GANS-Autoencoder/blob/main/Autoencoder_TF.ipynb\" target=\"_parent\"><img src=\"https://colab.research.google.com/assets/colab-badge.svg\" alt=\"Open In Colab\"/></a>"
      ]
    },
    {
      "cell_type": "code",
      "metadata": {
        "id": "9vgjTHRyBjPr"
      },
      "source": [
        "import tensorflow as tf  \n",
        "from tensorflow import keras\n",
        "import cv2\n",
        "import numpy as np\n",
        "import matplotlib.pyplot as plt\n",
        "import os\n",
        "import tensorflow as tf\n",
        "from tensorflow import keras\n",
        "from tensorflow.keras import layers\n"
      ],
      "execution_count": 1,
      "outputs": []
    },
    {
      "cell_type": "code",
      "metadata": {
        "id": "3OlrPbwaVaMd"
      },
      "source": [
        "from google.colab import drive\n",
        "drive.mount(\"/content/drive\", force_remount=True)"
      ],
      "execution_count": null,
      "outputs": []
    },
    {
      "cell_type": "code",
      "metadata": {
        "id": "BxjZfXa9VatI"
      },
      "source": [
        "path=\".\"\n",
        "os.chdir(path)\n",
        "os.makedirs(\"train\")\n",
        "os.makedirs(\"valid\")\n",
        "os.makedirs(\"test\")\n",
        "\n",
        "path=\"./train\"\n",
        "os.chdir(path)\n",
        "os.makedirs(\"horse\")\n",
        "os.makedirs(\"dolphin\")\n",
        "os.makedirs(\"dolphin_horse\")\n",
        "\n",
        "path=\"/content/valid\"\n",
        "os.chdir(path)\n",
        "os.makedirs(\"horse\")\n",
        "os.makedirs(\"dolphin\")\n",
        "os.makedirs(\"dolphin_horse\")\n",
        "\n",
        "path=\"/content/test\"\n",
        "os.chdir(path)\n",
        "os.makedirs(\"horse\")\n",
        "os.makedirs(\"dolphin\")\n",
        "os.makedirs(\"dolphin_horse\")\n",
        "\n",
        "!pip install pyunpack\n",
        "!pip install patool\n",
        "from pyunpack import Archive\n",
        "\n",
        "Archive('/content/drive/MyDrive/dolphin_train.rar').extractall('/content/train/dolphin/')\n",
        "Archive('/content/drive/MyDrive/horse_train.rar').extractall('/content/train/horse/')\n",
        "Archive(\"/content/drive/MyDrive/dolphin_horse_train.rar\").extractall('/content/train/dolphin_horse/')\n",
        "Archive('/content/drive/MyDrive/horse_valid.rar').extractall('/content/valid/horse/')\n",
        "Archive('/content/drive/MyDrive/dolphin_valid.rar').extractall('/content/valid/dolphin/')\n",
        "Archive('/content/drive/MyDrive/dolphin_horse_valid.rar').extractall('/content/valid/dolphin_horse/')\n",
        "Archive('/content/drive/MyDrive/DolphinTest.rar').extractall('/content/test/dolphin/')\n",
        "Archive('/content/drive/MyDrive/HorseTest.rar').extractall('/content/test/horse/')\n",
        "Archive(\"/content/drive/MyDrive/DolphinHorseTest.rar\").extractall('/content/test/dolphin_horse/')"
      ],
      "execution_count": null,
      "outputs": []
    },
    {
      "cell_type": "code",
      "metadata": {
        "colab": {
          "base_uri": "https://localhost:8080/"
        },
        "id": "2anRE8baWNew",
        "outputId": "7a667f6f-6311-4091-9e92-e5a2ddfe3189"
      },
      "source": [
        "\n",
        "datadir=\"/content/train/\" \n",
        "train_categories=['dolphin/dolphin_train/']\n",
        "\n",
        "dataset_train=[]\n",
        "def create_train_data():\n",
        "  for category in train_categories:\n",
        "    path_train=os.path.join(datadir, category)\n",
        "    if category==\"horse/horse_train/\":\n",
        "      class_num_train=[1,0]\n",
        "    if category==\"dolphin/dolphin_train/\":\n",
        "      class_num_train=[0,1]\n",
        "    if category==\"dolphin_horse/dolphin_horse_train/\":\n",
        "      class_num_train=[1,1]\n",
        "    for img in os.listdir(path_train):  \n",
        "      try:\n",
        "        img_array=cv2.imread(os.path.join(path_train, img))#, cv2.IMREAD_GRAYSCALE)\n",
        "        new_array=cv2.resize(img_array, (64, 64))  \n",
        "        new_array1=new_array/255 \n",
        "        dataset_train.append([new_array1, class_num_train])\n",
        "      except Exception as e:\n",
        "        print(e)\n",
        "\n",
        "create_train_data()\n",
        "\n",
        "import random\n",
        "random.shuffle(dataset_train)\n",
        "\n",
        "inputs_train=[]\n",
        "targets_train=[]\n",
        "\n",
        "for image, label in dataset_train:\n",
        "  inputs_train.append(image)\n",
        "  targets_train.append(label)\n",
        "\n",
        "#---creating np array from the input images\n",
        "arr_inputs_train = np.array(inputs_train)\n",
        "arr_inputs_float_train=arr_inputs_train.astype('float32')\n",
        "\n",
        "\n",
        "arr_inputs_train_targets = np.array(targets_train)\n",
        "arr_inputs_float_train_targets=arr_inputs_train_targets.astype('float32')\n",
        "\n",
        "\n",
        "\n",
        "\n",
        "datadir=\"/content/valid/\" \n",
        "valid_categories=['dolphin/dolphin_valid/']\n",
        "\n",
        "dataset_valid=[]\n",
        "def create_validation_data():\n",
        "  for category in valid_categories:\n",
        "    path_valid=os.path.join(datadir, category)\n",
        "    if category==\"horse/horse_valid/\":\n",
        "      class_num_valid=[1,0]\n",
        "    if category==\"dolphin/dolphin_valid/\":\n",
        "      class_num_valid=[0,1]\n",
        "    if category==\"dolphin_horse/dolphin_horse_valid/\":\n",
        "      class_num_valid=[1,1]\n",
        "    for img in os.listdir(path_valid):  \n",
        "      try:\n",
        "        img_array=cv2.imread(os.path.join(path_valid, img))#, cv2.IMREAD_GRAYSCALE)\n",
        "        new_array=cv2.resize(img_array, (64, 64))  \n",
        "        new_array1=new_array/255 \n",
        "        dataset_valid.append([new_array1, class_num_valid])\n",
        "      except Exception as e:\n",
        "        print(e)\n",
        "\n",
        "create_validation_data()\n",
        "\n",
        "import random\n",
        "random.shuffle(dataset_valid)\n",
        "\n",
        "inputs_val=[]\n",
        "targets_val=[]\n",
        "\n",
        "for image, label in dataset_valid:\n",
        "  inputs_val.append(image)\n",
        "  targets_val.append(label)\n",
        "\n",
        "#---creating np array from the input images\n",
        "arr_inputs_val = np.array(inputs_val)\n",
        "arr_inputs_float_val=arr_inputs_val.astype('float32')"
      ],
      "execution_count": 2,
      "outputs": [
        {
          "output_type": "stream",
          "text": [
            "OpenCV(4.1.2) /io/opencv/modules/imgproc/src/resize.cpp:3720: error: (-215:Assertion failed) !ssize.empty() in function 'resize'\n",
            "\n"
          ],
          "name": "stdout"
        }
      ]
    },
    {
      "cell_type": "code",
      "metadata": {
        "colab": {
          "base_uri": "https://localhost:8080/"
        },
        "id": "CEJslCbmbne0",
        "outputId": "70791903-ceab-4ea3-ab67-327b6758b47b"
      },
      "source": [
        "encoder_input=keras.Input(shape=(64,64,3), name='img')\n",
        "x=keras.layers.Flatten()(encoder_input)\n",
        "encoder_output=keras.layers.Dense(64, activation=\"relu\")(x)\n",
        "\n",
        "encoder=keras.Model(encoder_input, encoder_output, name=\"encoder\")\n",
        "decoder_input=keras.layers.Dense(12288, activation=\"relu\")(encoder_output)\n",
        "#x=keras.layers.Dense(12288, activation=\"relu\")(decoder_input)\n",
        "decoder_output=keras.layers.Reshape((64,64,3))(decoder_input)\n",
        "\n",
        "opt=keras.optimizers.Adam(lr=0.0005, decay=1e-6)\n",
        "\n",
        "\n",
        "autoencoder=keras.Model(encoder_input, decoder_output, name=\"autoencoder\")\n",
        "autoencoder.summary()"
      ],
      "execution_count": 24,
      "outputs": [
        {
          "output_type": "stream",
          "text": [
            "Model: \"autoencoder\"\n",
            "_________________________________________________________________\n",
            "Layer (type)                 Output Shape              Param #   \n",
            "=================================================================\n",
            "img (InputLayer)             [(None, 64, 64, 3)]       0         \n",
            "_________________________________________________________________\n",
            "flatten_4 (Flatten)          (None, 12288)             0         \n",
            "_________________________________________________________________\n",
            "dense_9 (Dense)              (None, 64)                786496    \n",
            "_________________________________________________________________\n",
            "dense_10 (Dense)             (None, 12288)             798720    \n",
            "_________________________________________________________________\n",
            "reshape_4 (Reshape)          (None, 64, 64, 3)         0         \n",
            "=================================================================\n",
            "Total params: 1,585,216\n",
            "Trainable params: 1,585,216\n",
            "Non-trainable params: 0\n",
            "_________________________________________________________________\n"
          ],
          "name": "stdout"
        },
        {
          "output_type": "stream",
          "text": [
            "/usr/local/lib/python3.7/dist-packages/tensorflow/python/keras/optimizer_v2/optimizer_v2.py:375: UserWarning: The `lr` argument is deprecated, use `learning_rate` instead.\n",
            "  \"The `lr` argument is deprecated, use `learning_rate` instead.\")\n"
          ],
          "name": "stderr"
        }
      ]
    },
    {
      "cell_type": "code",
      "metadata": {
        "id": "7Rv95kduToxs"
      },
      "source": [
        "autoencoder.compile(optimizer=opt, loss='mae')\n",
        "epochs=1000\n",
        "batch_size = 32\n",
        "history=autoencoder.fit(arr_inputs_float_train, arr_inputs_float_train,  epochs=epochs, batch_size=batch_size, validation_data=(arr_inputs_float_val, arr_inputs_float_val), shuffle=True)\n"
      ],
      "execution_count": null,
      "outputs": []
    },
    {
      "cell_type": "code",
      "metadata": {
        "id": "AyjqfD5Lqybc"
      },
      "source": [
        "example=encoder.predict([arr_inputs_float_val[0].reshape(-1, 28, 28, 3)])[0]\n",
        "print(example)"
      ],
      "execution_count": null,
      "outputs": []
    },
    {
      "cell_type": "code",
      "metadata": {
        "colab": {
          "base_uri": "https://localhost:8080/",
          "height": 305
        },
        "id": "eAHG1WkzVwyE",
        "outputId": "d32d5499-c9c4-4762-e593-e24aa96fbc16"
      },
      "source": [
        "result=autoencoder.predict([arr_inputs_float_val[21].reshape(-1, 64, 64, 3)])[0]\n",
        "plt.imshow(result)"
      ],
      "execution_count": 48,
      "outputs": [
        {
          "output_type": "stream",
          "text": [
            "Clipping input data to the valid range for imshow with RGB data ([0..1] for floats or [0..255] for integers).\n"
          ],
          "name": "stderr"
        },
        {
          "output_type": "execute_result",
          "data": {
            "text/plain": [
              "<matplotlib.image.AxesImage at 0x7f839b092910>"
            ]
          },
          "metadata": {
            "tags": []
          },
          "execution_count": 48
        },
        {
          "output_type": "display_data",
          "data": {
            "image/png": "[encoded data removed]",
            "text/plain": [
              "<Figure size 432x288 with 1 Axes>"
            ]
          },
          "metadata": {
            "tags": [],
            "needs_background": "light"
          }
        }
      ]
    },
    {
      "cell_type": "code",
      "metadata": {
        "colab": {
          "base_uri": "https://localhost:8080/",
          "height": 286
        },
        "id": "6TJJKIeXafCK",
        "outputId": "6841e250-2a88-493c-ccda-50610f4e787c"
      },
      "source": [
        "plt.imshow(arr_inputs_float_val[21])"
      ],
      "execution_count": 49,
      "outputs": [
        {
          "output_type": "execute_result",
          "data": {
            "text/plain": [
              "<matplotlib.image.AxesImage at 0x7f839b121a90>"
            ]
          },
          "metadata": {
            "tags": []
          },
          "execution_count": 49
        },
        {
          "output_type": "display_data",
          "data": {
            "image/png": "[encoded data removed]",
            "text/plain": [
              "<Figure size 432x288 with 1 Axes>"
            ]
          },
          "metadata": {
            "tags": [],
            "needs_background": "light"
          }
        }
      ]
    },
    {
      "cell_type": "code",
      "metadata": {
        "id": "SY-pDCLmGMSL"
      },
      "source": [
        "\n",
        "from tensorflow.keras.models import Model\n",
        "from tensorflow.keras import layers, losses\n",
        "\n",
        "class AnomalyDetector(Model):\n",
        "  def __init__(self):\n",
        "    super(AnomalyDetector, self).__init__()\n",
        "    self.encoder=tf.keras.Sequential([\n",
        "      layers.Dense(32, activation=\"relu\"),\n",
        "      layers.Dense(16, activation=\"relu\"),\n",
        "      layers.Dense(8, activation=\"relu\")])\n",
        "\n",
        "    self.decoder=tf.keras.Sequential([\n",
        "      layers.Dense(16, activation=\"relu\"),\n",
        "      layers.Dense(32, activation=\"relu\"),\n",
        "      layers.Dense(64, activation=\"sigmoid\")])\n",
        "\n",
        "  def call(self, x):\n",
        "    encoded=self.encoder(x)\n",
        "    decoded=self.decoder(encoded)\n",
        "    return decoded\n",
        "\n",
        "autoencoder=AnomalyDetector()\n"
      ],
      "execution_count": null,
      "outputs": []
    },
    {
      "cell_type": "code",
      "metadata": {
        "id": "wvm4eF0lSjE4"
      },
      "source": [
        "GANS:\n",
        "!pip install opendatasets --upgrade --quiet\n",
        "\n",
        "import opendatasets as od\n",
        "\n",
        "dataset_url = 'https://www.kaggle.com/splcher/animefacedataset'\n",
        "od.download(dataset_url)\n",
        "\n",
        "import os\n",
        "\n",
        "DATA_DIR = './animefacedataset'\n",
        "print(os.listdir(DATA_DIR)[:10])"
      ],
      "execution_count": null,
      "outputs": []
    }
  ]
}